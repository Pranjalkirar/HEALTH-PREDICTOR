{
 "cells": [
  {
   "cell_type": "code",
   "execution_count": 12,
   "id": "6dac2336",
   "metadata": {
    "scrolled": true
   },
   "outputs": [
    {
     "name": "stdout",
     "output_type": "stream",
     "text": [
      "Accuracy: 0.6869047619047619\n"
     ]
    }
   ],
   "source": [
    "import pandas as pd\n",
    "from sklearn.tree import DecisionTreeClassifier\n",
    "from sklearn.model_selection import train_test_split\n",
    "from sklearn.metrics import accuracy_score\n",
    "from sklearn import tree\n",
    "import joblib\n",
    "\n",
    "# Step 1: Load Data\n",
    "df = pd.read_csv('synthetic_health_lifestyle_dataset.csv')\n",
    "df.dropna(inplace=True)\n",
    "\n",
    "# Step 2: Preprocess Categorical Columns with Correct Capitalization\n",
    "df['Gender'] = df['Gender'].map({'Female': 0, 'Male': 1, 'Other': 2})\n",
    "df['Smoker'] = df['Smoker'].map({'No': 0, 'Yes': 1})\n",
    "df['Diet_Quality'] = df['Diet_Quality'].map({'Poor': 0, 'Average': 1, 'Good': 2, 'Excellent': 3})\n",
    "df['Alcohol_Consumption'] = df['Alcohol_Consumption'].map({'None': 0, 'Low': 1, 'Moderate': 2, 'High': 3})\n",
    "df['Chronic_Disease'] = df['Chronic_Disease'].map({'No': 0, 'Yes': 1})\n",
    "df['Exercise_Freq'] = df['Exercise_Freq'].map({\n",
    "    'None': 0,\n",
    "    '1-2 times/week': 1,\n",
    "    '3-5 times/week': 2,\n",
    "    'Daily': 3\n",
    "})\n",
    "\n",
    "# Step 3: Define Features and Label\n",
    "X = df.drop(columns=['ID', 'Chronic_Disease'])  # Drop ID and target\n",
    "y = df['Chronic_Disease']\n",
    "\n",
    "# Step 4: Train-Test Split\n",
    "X_train, X_test, y_train, y_test = train_test_split(X, y, test_size=0.2, random_state=42)\n",
    "\n",
    "# Step 5: Train the Model\n",
    "model = DecisionTreeClassifier(random_state=42)\n",
    "model.fit(X_train, y_train)\n",
    "\n",
    "# Step 6: Evaluate Model\n",
    "predictions = model.predict(X_test)\n",
    "score = accuracy_score(y_test, predictions)\n",
    "print(\"Accuracy:\", score)"
   ]
  },
  {
   "cell_type": "code",
   "execution_count": 14,
   "id": "c70f83f3",
   "metadata": {},
   "outputs": [],
   "source": [
    "# Step 7: Save the Model\n",
    "joblib.dump(model, 'health-predictor.joblib')\n",
    "\n",
    "# Step 8: Load and Predict\n",
    "model = joblib.load('health-predictor.joblib')\n"
   ]
  },
  {
   "cell_type": "code",
   "execution_count": 15,
   "id": "361f5758",
   "metadata": {},
   "outputs": [
    {
     "name": "stdout",
     "output_type": "stream",
     "text": [
      "Predicted Chronic Disease (0=No, 1=Yes): 1\n"
     ]
    }
   ],
   "source": [
    "# Example sample input: Age=30, Gender=1(male), Height_cm=170, Weight_kg=65,\n",
    "# BMI=22.5, Smoker=0, Exercise_Freq=3 (Daily), Diet_Quality=2 (Good),\n",
    "# Alcohol_Consumption=1 (Low), Stress_Level=5, Sleep_Hours=7\n",
    "\n",
    "sample_data = pd.DataFrame([{\n",
    "    'Age': 30,\n",
    "    'Gender': 1,\n",
    "    'Height_cm': 170,\n",
    "    'Weight_kg': 65,\n",
    "    'BMI': 22.5,\n",
    "    'Smoker': 0,\n",
    "    'Exercise_Freq': 3,\n",
    "    'Diet_Quality': 2,\n",
    "    'Alcohol_Consumption': 1,\n",
    "    'Stress_Level': 5,\n",
    "    'Sleep_Hours': 7\n",
    "}])\n",
    "\n",
    "prediction = model.predict(sample_data)\n",
    "print(\"Predicted Chronic Disease (0=No, 1=Yes):\", prediction[0])"
   ]
  },
  {
   "cell_type": "code",
   "execution_count": 16,
   "id": "eea26e76",
   "metadata": {},
   "outputs": [],
   "source": [
    "# Step 9: Export Tree\n",
    "tree.export_graphviz(\n",
    "    model,\n",
    "    out_file='health-tree.dot',\n",
    "    feature_names=X.columns,\n",
    "    class_names=['No', 'Yes'],\n",
    "    label='all',\n",
    "    filled=True,\n",
    "    rounded=True\n",
    ")"
   ]
  },
  {
   "cell_type": "code",
   "execution_count": null,
   "id": "99701699",
   "metadata": {},
   "outputs": [],
   "source": []
  }
 ],
 "metadata": {
  "kernelspec": {
   "display_name": "Python 3 (ipykernel)",
   "language": "python",
   "name": "python3"
  },
  "language_info": {
   "codemirror_mode": {
    "name": "ipython",
    "version": 3
   },
   "file_extension": ".py",
   "mimetype": "text/x-python",
   "name": "python",
   "nbconvert_exporter": "python",
   "pygments_lexer": "ipython3",
   "version": "3.11.7"
  }
 },
 "nbformat": 4,
 "nbformat_minor": 5
}
